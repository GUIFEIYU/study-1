{
 "cells": [
  {
   "cell_type": "markdown",
   "id": "a468825fe0a5968d",
   "metadata": {},
   "source": [
    "pytorch KMNIST 数据集神经网络搭建及训练"
   ]
  },
  {
   "cell_type": "code",
   "execution_count": 1,
   "id": "84c4742c94572fb7",
   "metadata": {
    "ExecuteTime": {
     "end_time": "2025-03-16T01:19:09.903571Z",
     "start_time": "2025-03-16T01:19:05.574124Z"
    }
   },
   "outputs": [],
   "source": [
    "# 导入相关依赖包\n",
    "import numpy as np\n",
    "import torch\n",
    "from torch import nn\n",
    "from torch import optim\n",
    "from torch.utils.data import DataLoader\n",
    "from torchvision import datasets, transforms\n",
    "import matplotlib.pyplot as plt\n",
    "from torchvision.transforms.v2 import ToTensor"
   ]
  },
  {
   "cell_type": "code",
   "execution_count": 2,
   "id": "817f627461e82aa1",
   "metadata": {
    "ExecuteTime": {
     "end_time": "2025-03-16T01:19:09.917487Z",
     "start_time": "2025-03-16T01:19:09.914579Z"
    }
   },
   "outputs": [],
   "source": [
    "# 超参数定义\n",
    "LR = 0.01 # 学习率\n",
    "BATCH_SIZE = 128 # 数据批量大小\n",
    "EPOCHS = 60 # 训练轮数"
   ]
  },
  {
   "cell_type": "code",
   "execution_count": 4,
   "id": "2e8bf8287491bc19",
   "metadata": {
    "ExecuteTime": {
     "end_time": "2025-03-16T01:19:12.655874Z",
     "start_time": "2025-03-16T01:19:12.612838Z"
    }
   },
   "outputs": [
    {
     "name": "stderr",
     "output_type": "stream",
     "text": [
      "D:\\Anaconda3-2020\\anaconda\\envs\\pytorch_study\\Lib\\site-packages\\torchvision\\transforms\\v2\\_deprecated.py:42: UserWarning: The transform `ToTensor()` is deprecated and will be removed in a future release. Instead, please use `v2.Compose([v2.ToImage(), v2.ToDtype(torch.float32, scale=True)])`.Output is equivalent up to float precision.\n",
      "  warnings.warn(\n"
     ]
    }
   ],
   "source": [
    "# 数据准备\n",
    "data_train = datasets.KMNIST(\n",
    "    root='../dataset',\n",
    "    download=True,\n",
    "    train=True,\n",
    "    transform=ToTensor(),\n",
    ")\n",
    "data_test = datasets.KMNIST(\n",
    "    root='../dataset',\n",
    "    download=True,\n",
    "    train=False,\n",
    "    transform=ToTensor(),\n",
    ")"
   ]
  },
  {
   "cell_type": "code",
   "execution_count": 5,
   "id": "14f4b12c69bed393",
   "metadata": {
    "ExecuteTime": {
     "end_time": "2025-03-16T01:19:15.900715Z",
     "start_time": "2025-03-16T01:19:15.896711Z"
    }
   },
   "outputs": [],
   "source": [
    "# 数据批量化加载\n",
    "train_loader = DataLoader(data_train, batch_size=BATCH_SIZE, shuffle=True) # shuffle=true 随机打乱数据，增肌模型训练结果的泛化能力\n",
    "test_loader = DataLoader(data_test, batch_size=BATCH_SIZE, shuffle=True)"
   ]
  },
  {
   "cell_type": "code",
   "execution_count": 18,
   "id": "6030445b2cc7bad1",
   "metadata": {
    "ExecuteTime": {
     "end_time": "2025-03-16T01:21:36.626027Z",
     "start_time": "2025-03-16T01:21:36.620657Z"
    }
   },
   "outputs": [],
   "source": [
    "# 模型构建\n",
    "model = torch.nn.Sequential(\n",
    "    # 将图片转换为 shape(, 784) 输入项 784个特征， 神经元数量 128\n",
    "    nn.Linear(in_features=28 * 28, out_features=256),\n",
    "    # 使用RELU 损失函数\n",
    "    nn.ReLU(),\n",
    "    # 将图片转换为 shape(, 784) 输入项 784个特征， 神经元数量 128\n",
    "    nn.Linear(in_features=256, out_features=128),\n",
    "    # 使用RELU 损失函数\n",
    "    nn.ReLU(),\n",
    "    # 输出层，输入128个特征，输出 10个类别的预测值\n",
    "    nn.Linear(in_features=128, out_features=10)\n",
    ")"
   ]
  },
  {
   "cell_type": "code",
   "execution_count": 19,
   "id": "4067931b40c408d6",
   "metadata": {
    "ExecuteTime": {
     "end_time": "2025-03-16T01:21:40.348498Z",
     "start_time": "2025-03-16T01:21:40.345607Z"
    }
   },
   "outputs": [],
   "source": [
    "# 定义损失函数\n",
    "loss_function = nn.CrossEntropyLoss() # 使用交叉熵损失"
   ]
  },
  {
   "cell_type": "code",
   "execution_count": 20,
   "id": "3d8a892297f56d39",
   "metadata": {
    "ExecuteTime": {
     "end_time": "2025-03-16T01:21:41.352962Z",
     "start_time": "2025-03-16T01:21:41.350168Z"
    }
   },
   "outputs": [],
   "source": [
    "# 定义优化器\n",
    "optimizer = optim.SGD(model.parameters(), lr=LR, momentum=0.9, nesterov=True)"
   ]
  },
  {
   "cell_type": "code",
   "execution_count": 21,
   "id": "503db40e82383268",
   "metadata": {
    "ExecuteTime": {
     "end_time": "2025-03-16T01:27:49.601350Z",
     "start_time": "2025-03-16T01:21:42.439557Z"
    }
   },
   "outputs": [
    {
     "name": "stdout",
     "output_type": "stream",
     "text": [
      "epoch 0, loss 0.4987006187438965\n",
      "epoch 1, loss 0.3712400197982788\n",
      "epoch 2, loss 0.3737654387950897\n",
      "epoch 3, loss 0.4436780512332916\n",
      "epoch 4, loss 0.10842486470937729\n",
      "epoch 5, loss 0.1465596705675125\n",
      "epoch 6, loss 0.08426465839147568\n",
      "epoch 7, loss 0.13561378419399261\n",
      "epoch 8, loss 0.1882251501083374\n",
      "epoch 9, loss 0.09242617338895798\n",
      "epoch 10, loss 0.07253613322973251\n",
      "epoch 11, loss 0.06093950942158699\n",
      "epoch 12, loss 0.17626111209392548\n",
      "epoch 13, loss 0.05684559419751167\n",
      "epoch 14, loss 0.013967413455247879\n",
      "epoch 15, loss 0.017444388940930367\n",
      "epoch 16, loss 0.017706042155623436\n",
      "epoch 17, loss 0.017030177637934685\n",
      "epoch 18, loss 0.016573501750826836\n",
      "epoch 19, loss 0.008473926223814487\n",
      "epoch 20, loss 0.013531479984521866\n",
      "epoch 21, loss 0.0036986793857067823\n",
      "epoch 22, loss 0.016785411164164543\n",
      "epoch 23, loss 0.004341819789260626\n",
      "epoch 24, loss 0.006621031556278467\n",
      "epoch 25, loss 0.002301642205566168\n",
      "epoch 26, loss 0.004268976394087076\n",
      "epoch 27, loss 0.004577352665364742\n",
      "epoch 28, loss 0.003651503473520279\n",
      "epoch 29, loss 0.003834504634141922\n",
      "epoch 30, loss 0.0023471908643841743\n",
      "epoch 31, loss 0.002509090816602111\n",
      "epoch 32, loss 0.0024836945813149214\n",
      "epoch 33, loss 0.0018265414983034134\n",
      "epoch 34, loss 0.0020917276851832867\n",
      "epoch 35, loss 0.002667577937245369\n",
      "epoch 36, loss 0.0016038393368944526\n",
      "epoch 37, loss 0.0009751265752129257\n",
      "epoch 38, loss 0.0021465010941028595\n",
      "epoch 39, loss 0.001906363875605166\n",
      "epoch 40, loss 0.0016570877050980926\n",
      "epoch 41, loss 0.0013607209548354149\n",
      "epoch 42, loss 0.0015325268032029271\n",
      "epoch 43, loss 0.0006059210863895714\n",
      "epoch 44, loss 0.0005845263949595392\n",
      "epoch 45, loss 0.000981296761892736\n",
      "epoch 46, loss 0.0013102159136906266\n",
      "epoch 47, loss 0.0017339196056127548\n",
      "epoch 48, loss 0.0007012931746430695\n",
      "epoch 49, loss 0.0008506914600729942\n",
      "epoch 50, loss 0.0010516546899452806\n",
      "epoch 51, loss 0.0006909163785167038\n",
      "epoch 52, loss 0.000526410061866045\n",
      "epoch 53, loss 0.0009874252136796713\n",
      "epoch 54, loss 0.0011224636109545827\n",
      "epoch 55, loss 0.0006212264997884631\n",
      "epoch 56, loss 0.0005641473107971251\n",
      "epoch 57, loss 0.0006619193009100854\n",
      "epoch 58, loss 0.0004154239722993225\n",
      "epoch 59, loss 0.001031682942993939\n"
     ]
    },
    {
     "data": {
      "image/png": "[encoded data removed]",
      "text/plain": [
       "<Figure size 640x480 with 1 Axes>"
      ]
     },
     "metadata": {},
     "output_type": "display_data"
    }
   ],
   "source": [
    "loss_history = []\n",
    "# 开始模型训练\n",
    "for epoch in range(EPOCHS):\n",
    "    # 批量加载训练数据\n",
    "    for images, labels in train_loader:\n",
    "        # 前向计算\n",
    "        out = model(images.reshape(-1, 28 * 28))\n",
    "        # 计算损失\n",
    "        loss = loss_function(out, labels)\n",
    "        # 梯度计算\n",
    "        optimizer.zero_grad() # 参数累计梯度清零（重置所有模型参数的梯度）\n",
    "        loss.backward() # 反向传播计算梯度\n",
    "        # 更新参数\n",
    "        optimizer.step()\n",
    "    loss_history.append(loss.item())\n",
    "    print(f'epoch {epoch}, loss {loss.item()}')\n",
    "\n",
    "# 绘制损失与训练轮数的变化\n",
    "plt_x = range(0, EPOCHS, 1)\n",
    "plt.plot(plt_x, loss_history)\n",
    "plt.show()\n",
    "# 保存模型参数（路径推荐使用.pt或.pth后缀）\n",
    "torch.save(model, 'model_complete.pt')"
   ]
  },
  {
   "cell_type": "code",
   "execution_count": 22,
   "id": "adb7a1d92ed6047e",
   "metadata": {
    "ExecuteTime": {
     "end_time": "2025-03-16T01:27:58.698823Z",
     "start_time": "2025-03-16T01:27:57.676478Z"
    }
   },
   "outputs": [
    {
     "name": "stdout",
     "output_type": "stream",
     "text": [
      "accuracy 89.97%\n"
     ]
    }
   ],
   "source": [
    "# 测试\n",
    "correct = 0\n",
    "total = 0\n",
    "with torch.no_grad():\n",
    "    for data, target in test_loader:\n",
    "        output = model(data.reshape(-1, 28 * 28))\n",
    "        _, predicted = torch.max(output.data, 1)\n",
    "        total += target.size(0)\n",
    "        correct += predicted.eq(target.data).sum().item()\n",
    "    print(f'accuracy {100 * correct / total:.2f}%')"
   ]
  }
 ],
 "metadata": {
  "kernelspec": {
   "display_name": "study-env",
   "language": "python",
   "name": "python3"
  },
  "language_info": {
   "codemirror_mode": {
    "name": "ipython",
    "version": 2
   },
   "file_extension": ".py",
   "mimetype": "text/x-python",
   "name": "python",
   "nbconvert_exporter": "python",
   "pygments_lexer": "ipython2",
   "version": "3.12.8"
  }
 },
 "nbformat": 4,
 "nbformat_minor": 5
}
