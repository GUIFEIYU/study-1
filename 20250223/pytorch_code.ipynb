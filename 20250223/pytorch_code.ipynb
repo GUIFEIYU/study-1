{
 "cells": [
  {
   "cell_type": "code",
   "id": "initial_id",
   "metadata": {
    "collapsed": true,
    "ExecuteTime": {
     "end_time": "2025-02-23T09:19:34.101612Z",
     "start_time": "2025-02-23T09:19:34.097720Z"
    }
   },
   "source": [
    "import torch\n",
    "data = torch.tensor([[2,3,224,224],[2, 4, 5, 8]])\n",
    "data"
   ],
   "outputs": [
    {
     "data": {
      "text/plain": [
       "tensor([[  2,   3, 224, 224],\n",
       "        [  2,   4,   5,   8]])"
      ]
     },
     "execution_count": 13,
     "metadata": {},
     "output_type": "execute_result"
    }
   ],
   "execution_count": 13
  },
  {
   "metadata": {
    "ExecuteTime": {
     "end_time": "2025-02-23T09:19:31.005936Z",
     "start_time": "2025-02-23T09:19:30.994058Z"
    }
   },
   "cell_type": "code",
   "source": [
    "data2 = torch.ones_like(data, dtype=torch.float)\n",
    "data2\n",
    "print(data2)\n",
    "data3 = torch.zeros_like(data, dtype=torch.float64)\n",
    "print(data3)"
   ],
   "id": "2856297c87ac0893",
   "outputs": [
    {
     "name": "stdout",
     "output_type": "stream",
     "text": [
      "tensor([[1., 1., 1., 1.],\n",
      "        [1., 1., 1., 1.]])\n",
      "tensor([[0., 0., 0., 0.],\n",
      "        [0., 0., 0., 0.]], dtype=torch.float64)\n"
     ]
    }
   ],
   "execution_count": 2
  },
  {
   "metadata": {
    "ExecuteTime": {
     "end_time": "2025-02-23T09:19:31.530113Z",
     "start_time": "2025-02-23T09:19:31.525396Z"
    }
   },
   "cell_type": "code",
   "source": "data3.dtype",
   "id": "aeeba03612cf93a8",
   "outputs": [
    {
     "data": {
      "text/plain": [
       "torch.float64"
      ]
     },
     "execution_count": 3,
     "metadata": {},
     "output_type": "execute_result"
    }
   ],
   "execution_count": 3
  },
  {
   "metadata": {
    "ExecuteTime": {
     "end_time": "2025-02-23T09:19:31.542351Z",
     "start_time": "2025-02-23T09:19:31.530113Z"
    }
   },
   "cell_type": "code",
   "source": [
    "shape = (2,3,)\n",
    "rand_tensor = torch.rand(shape, dtype=torch.float64)\n",
    "print(rand_tensor)\n",
    "rand_tensor1 = torch.randn(shape, dtype=torch.float64)\n",
    "print(rand_tensor1)\n",
    "print(rand_tensor.size())"
   ],
   "id": "350951c37a6b19c3",
   "outputs": [
    {
     "name": "stdout",
     "output_type": "stream",
     "text": [
      "tensor([[0.6654, 0.0060, 0.4682],\n",
      "        [0.7218, 0.7890, 0.4860]], dtype=torch.float64)\n",
      "tensor([[ 0.2291, -0.2962,  1.0932],\n",
      "        [-0.5130,  0.1062, -1.4959]], dtype=torch.float64)\n",
      "torch.Size([2, 3])\n"
     ]
    }
   ],
   "execution_count": 4
  },
  {
   "metadata": {
    "ExecuteTime": {
     "end_time": "2025-02-23T09:19:31.721472Z",
     "start_time": "2025-02-23T09:19:31.714253Z"
    }
   },
   "cell_type": "code",
   "source": [
    "data4 = torch.rand(3,4, device=torch.device('cpu'))\n",
    "print(data4.shape)\n",
    "print(data4.dtype)\n",
    "print(data4.device)"
   ],
   "id": "1be7bd284d60448d",
   "outputs": [
    {
     "name": "stdout",
     "output_type": "stream",
     "text": [
      "torch.Size([3, 4])\n",
      "torch.float32\n",
      "cpu\n"
     ]
    }
   ],
   "execution_count": 5
  },
  {
   "metadata": {
    "ExecuteTime": {
     "end_time": "2025-02-23T09:19:31.939597Z",
     "start_time": "2025-02-23T09:19:31.924617Z"
    }
   },
   "cell_type": "code",
   "source": "print(torch.cuda.is_available())",
   "id": "fb308af5f28de9a6",
   "outputs": [
    {
     "name": "stdout",
     "output_type": "stream",
     "text": [
      "False\n"
     ]
    }
   ],
   "execution_count": 6
  },
  {
   "metadata": {
    "ExecuteTime": {
     "end_time": "2025-02-23T09:19:32.276008Z",
     "start_time": "2025-02-23T09:19:32.270293Z"
    }
   },
   "cell_type": "code",
   "source": [
    "if torch.cuda.is_available():\n",
    "    device = torch.device('cuda:0')\n",
    "    data4.to(device)\n",
    "print(data4)\n",
    "print(data4.device)"
   ],
   "id": "15145dfa4101bf96",
   "outputs": [
    {
     "name": "stdout",
     "output_type": "stream",
     "text": [
      "tensor([[0.2441, 0.1784, 0.1411, 0.7382],\n",
      "        [0.7357, 0.5336, 0.4127, 0.2003],\n",
      "        [0.6950, 0.6695, 0.6646, 0.3763]])\n",
      "cpu\n"
     ]
    }
   ],
   "execution_count": 7
  },
  {
   "metadata": {
    "ExecuteTime": {
     "end_time": "2025-02-23T09:19:32.300006Z",
     "start_time": "2025-02-23T09:19:32.294816Z"
    }
   },
   "cell_type": "code",
   "source": [
    "data4 = torch.cat([data4, data4, data4])\n",
    "print(data4)"
   ],
   "id": "ab1e1e80e6d3d8af",
   "outputs": [
    {
     "name": "stdout",
     "output_type": "stream",
     "text": [
      "tensor([[0.2441, 0.1784, 0.1411, 0.7382],\n",
      "        [0.7357, 0.5336, 0.4127, 0.2003],\n",
      "        [0.6950, 0.6695, 0.6646, 0.3763],\n",
      "        [0.2441, 0.1784, 0.1411, 0.7382],\n",
      "        [0.7357, 0.5336, 0.4127, 0.2003],\n",
      "        [0.6950, 0.6695, 0.6646, 0.3763],\n",
      "        [0.2441, 0.1784, 0.1411, 0.7382],\n",
      "        [0.7357, 0.5336, 0.4127, 0.2003],\n",
      "        [0.6950, 0.6695, 0.6646, 0.3763]])\n"
     ]
    }
   ],
   "execution_count": 8
  },
  {
   "metadata": {
    "ExecuteTime": {
     "end_time": "2025-02-23T09:19:32.363648Z",
     "start_time": "2025-02-23T09:19:32.346888Z"
    }
   },
   "cell_type": "code",
   "source": "rand_tensor",
   "id": "fcd66089f3548396",
   "outputs": [
    {
     "data": {
      "text/plain": [
       "tensor([[0.6654, 0.0060, 0.4682],\n",
       "        [0.7218, 0.7890, 0.4860]], dtype=torch.float64)"
      ]
     },
     "execution_count": 9,
     "metadata": {},
     "output_type": "execute_result"
    }
   ],
   "execution_count": 9
  },
  {
   "metadata": {
    "ExecuteTime": {
     "end_time": "2025-02-23T09:19:32.443664Z",
     "start_time": "2025-02-23T09:19:32.438342Z"
    }
   },
   "cell_type": "code",
   "source": [
    "tenser = torch.tensor([[1,2,3,4,5],[3,4,5,6,7]], dtype=torch.int)\n",
    "tenser.add_(5)\n",
    "print(tenser)"
   ],
   "id": "b8ab83e5d121a1fa",
   "outputs": [
    {
     "name": "stdout",
     "output_type": "stream",
     "text": [
      "tensor([[ 6,  7,  8,  9, 10],\n",
      "        [ 8,  9, 10, 11, 12]], dtype=torch.int32)\n"
     ]
    }
   ],
   "execution_count": 10
  },
  {
   "metadata": {
    "ExecuteTime": {
     "end_time": "2025-02-23T09:20:04.627194Z",
     "start_time": "2025-02-23T09:20:04.253201Z"
    }
   },
   "cell_type": "code",
   "source": [
    "import torch\n",
    "from torchviz import make_dot\n",
    "# 定义矩阵 A，向量 b 和常数 c\n",
    "A = torch.randn(10, 10,requires_grad=True)\n",
    "b = torch.randn(10,requires_grad=True)\n",
    "c = torch.randn(1,requires_grad=True)\n",
    "x = torch.randn(10, requires_grad=True)\n",
    "# 计算 x^T * A + b * x + c\n",
    "result = torch.matmul(A, x.T) + torch.matmul(b, x) + c\n",
    "# ⽣成计算图节点\n",
    "dot = make_dot(result, params={'A': A, 'b': b, 'c': c, 'x': x})\n",
    "# 绘制计算图\n",
    "dot.render('expression', format='png', cleanup=True, view=True)"
   ],
   "id": "52c26e9b33ffcab3",
   "outputs": [
    {
     "data": {
      "text/plain": [
       "'expression.png'"
      ]
     },
     "execution_count": 14,
     "metadata": {},
     "output_type": "execute_result"
    }
   ],
   "execution_count": 14
  }
 ],
 "metadata": {
  "kernelspec": {
   "display_name": "Python 3",
   "language": "python",
   "name": "python3"
  },
  "language_info": {
   "codemirror_mode": {
    "name": "ipython",
    "version": 2
   },
   "file_extension": ".py",
   "mimetype": "text/x-python",
   "name": "python",
   "nbconvert_exporter": "python",
   "pygments_lexer": "ipython2",
   "version": "2.7.6"
  }
 },
 "nbformat": 4,
 "nbformat_minor": 5
}
